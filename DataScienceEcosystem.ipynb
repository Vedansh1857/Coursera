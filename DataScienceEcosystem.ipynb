{
 "cells": [
  {
   "cell_type": "markdown",
   "id": "9dd4c14f",
   "metadata": {},
   "source": [
    "# Data Science Tools and Ecosystem"
   ]
  },
  {
   "cell_type": "markdown",
   "id": "bb06af45",
   "metadata": {},
   "source": [
    "# In this notebook, Data Science Tools and Ecosystem are summarized."
   ]
  },
  {
   "cell_type": "markdown",
   "id": "d9caa5ab",
   "metadata": {},
   "source": [
    "# Objectives:\n",
    "* List popular languages for Data Science.\n",
    "* List popular tools & libraries for Data Science.\n",
    "* Create a table.\n",
    "* Evaluating arithmetic expression in python.\n",
    "* Convert minutes to hours."
   ]
  },
  {
   "cell_type": "markdown",
   "id": "f01e441d",
   "metadata": {},
   "source": [
    "# Some of the popular languages that Data Scientists use are:\n",
    "\n",
    "### 1. R.\n",
    "### 2. Python.\n",
    "### 3. SQL.\n",
    "### 4. Julia.\n",
    "### 5. Scala"
   ]
  },
  {
   "cell_type": "markdown",
   "id": "01fc3ff8",
   "metadata": {},
   "source": [
    "# Some of the commonly used libraries used by Data Scientists include:\n",
    "#### 1. Numpy.\n",
    "#### 2. Pandas.\n",
    "#### 3. Matplotlib.\n",
    "#### 4. Sklearn.\n",
    "#### 5. Tensorflow.\n",
    "#### 6. Pytorch."
   ]
  },
  {
   "cell_type": "markdown",
   "id": "bb6791a3",
   "metadata": {},
   "source": [
    "| \"Data Science tools\" |\n",
    "| :- |\n",
    "| \"Apache Spark\" |\n",
    "| \"Tensorflow\" |\n",
    "| \"Anaconda\" |\n",
    "| \"MongoDB\" |"
   ]
  },
  {
   "cell_type": "markdown",
   "id": "ea16aa8f",
   "metadata": {},
   "source": [
    "### Below are a few examples of evaluating arithmetic expressions in Python:\n",
    "1. (2+6)\n",
    "2. (8-6)\n",
    "3. (5*7)\n",
    "4. (9/3)\n",
    "5. (7%4)\n",
    "6. (9//5)"
   ]
  },
  {
   "cell_type": "code",
   "execution_count": 1,
   "id": "985e7a34",
   "metadata": {},
   "outputs": [
    {
     "data": {
      "text/plain": [
       "17"
      ]
     },
     "execution_count": 1,
     "metadata": {},
     "output_type": "execute_result"
    }
   ],
   "source": [
    "# This a simple arithmetic expression to mutiply then add integers.\n",
    "(3*4)+5"
   ]
  },
  {
   "cell_type": "code",
   "execution_count": 2,
   "id": "a6da06dd",
   "metadata": {},
   "outputs": [
    {
     "data": {
      "text/plain": [
       "3.3333333333333335"
      ]
     },
     "execution_count": 2,
     "metadata": {},
     "output_type": "execute_result"
    }
   ],
   "source": [
    "# This will convert 200 minutes to hours by diving by 60.\n",
    "(200/60)"
   ]
  },
  {
   "cell_type": "markdown",
   "id": "eabc8465",
   "metadata": {},
   "source": [
    "## Author\n",
    "Vedansh Gupta"
   ]
  }
 ],
 "metadata": {
  "kernelspec": {
   "display_name": "Python 3 (ipykernel)",
   "language": "python",
   "name": "python3"
  },
  "language_info": {
   "codemirror_mode": {
    "name": "ipython",
    "version": 3
   },
   "file_extension": ".py",
   "mimetype": "text/x-python",
   "name": "python",
   "nbconvert_exporter": "python",
   "pygments_lexer": "ipython3",
   "version": "3.10.8"
  }
 },
 "nbformat": 4,
 "nbformat_minor": 5
}
